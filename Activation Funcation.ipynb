{
 "cells": [
  {
   "cell_type": "markdown",
   "id": "2fb32c08",
   "metadata": {},
   "source": [
    "# Activation Function."
   ]
  },
  {
   "cell_type": "code",
   "execution_count": 1,
   "id": "b1443b6f",
   "metadata": {},
   "outputs": [],
   "source": [
    "#sigmoid function.\n",
    "import math\n",
    "def sig(x):\n",
    "    return 1/(1+ math.exp(-x))"
   ]
  },
  {
   "cell_type": "code",
   "execution_count": 12,
   "id": "bb810d15",
   "metadata": {},
   "outputs": [
    {
     "data": {
      "text/plain": [
       "4.780892883885469e-25"
      ]
     },
     "execution_count": 12,
     "metadata": {},
     "output_type": "execute_result"
    }
   ],
   "source": [
    "sig(-56)"
   ]
  },
  {
   "cell_type": "code",
   "execution_count": 17,
   "id": "facb966e",
   "metadata": {},
   "outputs": [],
   "source": [
    "#tanh function.   convert 1 and -1\n",
    "\n",
    "def tanh(x):\n",
    "    return (math.exp(x)-math.exp(-x))/(math.exp(x) +math.exp(-x))"
   ]
  },
  {
   "cell_type": "code",
   "execution_count": 22,
   "id": "6883c02f",
   "metadata": {},
   "outputs": [
    {
     "data": {
      "text/plain": [
       "(-1.0, 1.0, 0.7615941559557649)"
      ]
     },
     "execution_count": 22,
     "metadata": {},
     "output_type": "execute_result"
    }
   ],
   "source": [
    "tanh(-56),tanh(50),tanh(1)"
   ]
  },
  {
   "cell_type": "code",
   "execution_count": 23,
   "id": "07de108b",
   "metadata": {},
   "outputs": [],
   "source": [
    "#relu function. return 0 to max\n",
    "\n",
    "def relu(x):\n",
    "    return max(0,x)\n",
    "\n"
   ]
  },
  {
   "cell_type": "code",
   "execution_count": 25,
   "id": "d8634026",
   "metadata": {},
   "outputs": [
    {
     "data": {
      "text/plain": [
       "(13, 0)"
      ]
     },
     "execution_count": 25,
     "metadata": {},
     "output_type": "execute_result"
    }
   ],
   "source": [
    "relu(13),relu(-7)"
   ]
  },
  {
   "cell_type": "code",
   "execution_count": 26,
   "id": "a79db5c9",
   "metadata": {},
   "outputs": [],
   "source": [
    "#leky_relu function. \n",
    "\n",
    "def leky_relu(x):\n",
    "    return max(0.1*x,x)\n"
   ]
  },
  {
   "cell_type": "code",
   "execution_count": 29,
   "id": "d1ef34d4",
   "metadata": {},
   "outputs": [
    {
     "data": {
      "text/plain": [
       "(-10.0, 10)"
      ]
     },
     "execution_count": 29,
     "metadata": {},
     "output_type": "execute_result"
    }
   ],
   "source": [
    "leky_relu(-100),leky_relu(10)\n",
    " \n",
    "     "
   ]
  },
  {
   "cell_type": "code",
   "execution_count": null,
   "id": "e111ee46",
   "metadata": {},
   "outputs": [],
   "source": []
  }
 ],
 "metadata": {
  "kernelspec": {
   "display_name": "Python 3",
   "language": "python",
   "name": "python3"
  },
  "language_info": {
   "codemirror_mode": {
    "name": "ipython",
    "version": 3
   },
   "file_extension": ".py",
   "mimetype": "text/x-python",
   "name": "python",
   "nbconvert_exporter": "python",
   "pygments_lexer": "ipython3",
   "version": "3.8.8"
  }
 },
 "nbformat": 4,
 "nbformat_minor": 5
}
